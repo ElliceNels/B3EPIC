{
 "cells": [
  {
   "cell_type": "markdown",
   "id": "1d307670",
   "metadata": {},
   "source": [
    "## Retrieve datasets"
   ]
  },
  {
   "cell_type": "code",
   "execution_count": 1,
   "id": "a837c964",
   "metadata": {},
   "outputs": [],
   "source": [
    "import pandas as pd\n",
    "import numpy as np\n",
    "import seaborn as sns\n",
    "import matplotlib.pyplot as plt\n",
    "\n",
    "np.random.seed(37)\n",
    "\n",
    "dataset_enc = pd.read_csv('numercialDataset.csv')"
   ]
  },
  {
   "cell_type": "markdown",
   "id": "edce13c1",
   "metadata": {},
   "source": [
    "## Preparing input sample for all columns"
   ]
  },
  {
   "cell_type": "code",
   "execution_count": 2,
   "id": "81ec645d",
   "metadata": {},
   "outputs": [
    {
     "data": {
      "text/html": [
       "<div>\n",
       "<style scoped>\n",
       "    .dataframe tbody tr th:only-of-type {\n",
       "        vertical-align: middle;\n",
       "    }\n",
       "\n",
       "    .dataframe tbody tr th {\n",
       "        vertical-align: top;\n",
       "    }\n",
       "\n",
       "    .dataframe thead th {\n",
       "        text-align: right;\n",
       "    }\n",
       "</style>\n",
       "<table border=\"1\" class=\"dataframe\">\n",
       "  <thead>\n",
       "    <tr style=\"text-align: right;\">\n",
       "      <th></th>\n",
       "      <th>Age</th>\n",
       "      <th>Hours per day</th>\n",
       "      <th>BPM</th>\n",
       "      <th>Primary streaming service</th>\n",
       "      <th>Fav genre</th>\n",
       "      <th>Foreign languages</th>\n",
       "      <th>Frequency [Classical]</th>\n",
       "      <th>Frequency [Country]</th>\n",
       "      <th>Frequency [EDM]</th>\n",
       "      <th>Frequency [Folk]</th>\n",
       "      <th>...</th>\n",
       "      <th>Frequency [K pop]</th>\n",
       "      <th>Frequency [Latin]</th>\n",
       "      <th>Frequency [Lofi]</th>\n",
       "      <th>Frequency [Metal]</th>\n",
       "      <th>Frequency [Pop]</th>\n",
       "      <th>Frequency [R&amp;B]</th>\n",
       "      <th>Frequency [Rap]</th>\n",
       "      <th>Frequency [Rock]</th>\n",
       "      <th>Frequency [Video game music]</th>\n",
       "      <th>Music effects</th>\n",
       "    </tr>\n",
       "  </thead>\n",
       "  <tbody>\n",
       "    <tr>\n",
       "      <th>0</th>\n",
       "      <td>18.0</td>\n",
       "      <td>4.0</td>\n",
       "      <td>132.0</td>\n",
       "      <td>4</td>\n",
       "      <td>15</td>\n",
       "      <td>1</td>\n",
       "      <td>0</td>\n",
       "      <td>0</td>\n",
       "      <td>3</td>\n",
       "      <td>0</td>\n",
       "      <td>...</td>\n",
       "      <td>3</td>\n",
       "      <td>0</td>\n",
       "      <td>2</td>\n",
       "      <td>2</td>\n",
       "      <td>1</td>\n",
       "      <td>0</td>\n",
       "      <td>1</td>\n",
       "      <td>1</td>\n",
       "      <td>3</td>\n",
       "      <td>1</td>\n",
       "    </tr>\n",
       "    <tr>\n",
       "      <th>1</th>\n",
       "      <td>61.0</td>\n",
       "      <td>2.5</td>\n",
       "      <td>84.0</td>\n",
       "      <td>5</td>\n",
       "      <td>6</td>\n",
       "      <td>1</td>\n",
       "      <td>2</td>\n",
       "      <td>0</td>\n",
       "      <td>0</td>\n",
       "      <td>1</td>\n",
       "      <td>...</td>\n",
       "      <td>2</td>\n",
       "      <td>3</td>\n",
       "      <td>2</td>\n",
       "      <td>0</td>\n",
       "      <td>2</td>\n",
       "      <td>2</td>\n",
       "      <td>0</td>\n",
       "      <td>0</td>\n",
       "      <td>0</td>\n",
       "      <td>0</td>\n",
       "    </tr>\n",
       "    <tr>\n",
       "      <th>2</th>\n",
       "      <td>18.0</td>\n",
       "      <td>4.0</td>\n",
       "      <td>107.0</td>\n",
       "      <td>4</td>\n",
       "      <td>12</td>\n",
       "      <td>0</td>\n",
       "      <td>0</td>\n",
       "      <td>0</td>\n",
       "      <td>1</td>\n",
       "      <td>0</td>\n",
       "      <td>...</td>\n",
       "      <td>3</td>\n",
       "      <td>2</td>\n",
       "      <td>2</td>\n",
       "      <td>0</td>\n",
       "      <td>2</td>\n",
       "      <td>3</td>\n",
       "      <td>3</td>\n",
       "      <td>0</td>\n",
       "      <td>1</td>\n",
       "      <td>0</td>\n",
       "    </tr>\n",
       "    <tr>\n",
       "      <th>3</th>\n",
       "      <td>18.0</td>\n",
       "      <td>5.0</td>\n",
       "      <td>86.0</td>\n",
       "      <td>4</td>\n",
       "      <td>6</td>\n",
       "      <td>1</td>\n",
       "      <td>1</td>\n",
       "      <td>2</td>\n",
       "      <td>0</td>\n",
       "      <td>0</td>\n",
       "      <td>...</td>\n",
       "      <td>3</td>\n",
       "      <td>1</td>\n",
       "      <td>3</td>\n",
       "      <td>1</td>\n",
       "      <td>3</td>\n",
       "      <td>3</td>\n",
       "      <td>3</td>\n",
       "      <td>3</td>\n",
       "      <td>0</td>\n",
       "      <td>0</td>\n",
       "    </tr>\n",
       "    <tr>\n",
       "      <th>4</th>\n",
       "      <td>18.0</td>\n",
       "      <td>3.0</td>\n",
       "      <td>66.0</td>\n",
       "      <td>5</td>\n",
       "      <td>15</td>\n",
       "      <td>1</td>\n",
       "      <td>2</td>\n",
       "      <td>0</td>\n",
       "      <td>1</td>\n",
       "      <td>2</td>\n",
       "      <td>...</td>\n",
       "      <td>0</td>\n",
       "      <td>1</td>\n",
       "      <td>1</td>\n",
       "      <td>1</td>\n",
       "      <td>1</td>\n",
       "      <td>1</td>\n",
       "      <td>0</td>\n",
       "      <td>0</td>\n",
       "      <td>2</td>\n",
       "      <td>0</td>\n",
       "    </tr>\n",
       "    <tr>\n",
       "      <th>...</th>\n",
       "      <td>...</td>\n",
       "      <td>...</td>\n",
       "      <td>...</td>\n",
       "      <td>...</td>\n",
       "      <td>...</td>\n",
       "      <td>...</td>\n",
       "      <td>...</td>\n",
       "      <td>...</td>\n",
       "      <td>...</td>\n",
       "      <td>...</td>\n",
       "      <td>...</td>\n",
       "      <td>...</td>\n",
       "      <td>...</td>\n",
       "      <td>...</td>\n",
       "      <td>...</td>\n",
       "      <td>...</td>\n",
       "      <td>...</td>\n",
       "      <td>...</td>\n",
       "      <td>...</td>\n",
       "      <td>...</td>\n",
       "      <td>...</td>\n",
       "    </tr>\n",
       "    <tr>\n",
       "      <th>589</th>\n",
       "      <td>17.0</td>\n",
       "      <td>2.0</td>\n",
       "      <td>120.0</td>\n",
       "      <td>4</td>\n",
       "      <td>14</td>\n",
       "      <td>1</td>\n",
       "      <td>3</td>\n",
       "      <td>1</td>\n",
       "      <td>0</td>\n",
       "      <td>2</td>\n",
       "      <td>...</td>\n",
       "      <td>0</td>\n",
       "      <td>2</td>\n",
       "      <td>1</td>\n",
       "      <td>1</td>\n",
       "      <td>3</td>\n",
       "      <td>0</td>\n",
       "      <td>1</td>\n",
       "      <td>3</td>\n",
       "      <td>0</td>\n",
       "      <td>0</td>\n",
       "    </tr>\n",
       "    <tr>\n",
       "      <th>590</th>\n",
       "      <td>18.0</td>\n",
       "      <td>1.0</td>\n",
       "      <td>160.0</td>\n",
       "      <td>4</td>\n",
       "      <td>11</td>\n",
       "      <td>1</td>\n",
       "      <td>1</td>\n",
       "      <td>1</td>\n",
       "      <td>0</td>\n",
       "      <td>0</td>\n",
       "      <td>...</td>\n",
       "      <td>0</td>\n",
       "      <td>0</td>\n",
       "      <td>1</td>\n",
       "      <td>0</td>\n",
       "      <td>3</td>\n",
       "      <td>0</td>\n",
       "      <td>0</td>\n",
       "      <td>2</td>\n",
       "      <td>2</td>\n",
       "      <td>0</td>\n",
       "    </tr>\n",
       "    <tr>\n",
       "      <th>591</th>\n",
       "      <td>19.0</td>\n",
       "      <td>6.0</td>\n",
       "      <td>120.0</td>\n",
       "      <td>2</td>\n",
       "      <td>13</td>\n",
       "      <td>0</td>\n",
       "      <td>1</td>\n",
       "      <td>2</td>\n",
       "      <td>2</td>\n",
       "      <td>1</td>\n",
       "      <td>...</td>\n",
       "      <td>1</td>\n",
       "      <td>1</td>\n",
       "      <td>2</td>\n",
       "      <td>1</td>\n",
       "      <td>2</td>\n",
       "      <td>2</td>\n",
       "      <td>2</td>\n",
       "      <td>1</td>\n",
       "      <td>1</td>\n",
       "      <td>0</td>\n",
       "    </tr>\n",
       "    <tr>\n",
       "      <th>592</th>\n",
       "      <td>19.0</td>\n",
       "      <td>5.0</td>\n",
       "      <td>170.0</td>\n",
       "      <td>4</td>\n",
       "      <td>0</td>\n",
       "      <td>0</td>\n",
       "      <td>3</td>\n",
       "      <td>0</td>\n",
       "      <td>0</td>\n",
       "      <td>0</td>\n",
       "      <td>...</td>\n",
       "      <td>0</td>\n",
       "      <td>0</td>\n",
       "      <td>0</td>\n",
       "      <td>0</td>\n",
       "      <td>0</td>\n",
       "      <td>0</td>\n",
       "      <td>0</td>\n",
       "      <td>0</td>\n",
       "      <td>2</td>\n",
       "      <td>0</td>\n",
       "    </tr>\n",
       "    <tr>\n",
       "      <th>593</th>\n",
       "      <td>29.0</td>\n",
       "      <td>2.0</td>\n",
       "      <td>98.0</td>\n",
       "      <td>5</td>\n",
       "      <td>5</td>\n",
       "      <td>1</td>\n",
       "      <td>2</td>\n",
       "      <td>1</td>\n",
       "      <td>3</td>\n",
       "      <td>2</td>\n",
       "      <td>...</td>\n",
       "      <td>2</td>\n",
       "      <td>0</td>\n",
       "      <td>1</td>\n",
       "      <td>0</td>\n",
       "      <td>2</td>\n",
       "      <td>3</td>\n",
       "      <td>3</td>\n",
       "      <td>3</td>\n",
       "      <td>1</td>\n",
       "      <td>0</td>\n",
       "    </tr>\n",
       "  </tbody>\n",
       "</table>\n",
       "<p>594 rows × 23 columns</p>\n",
       "</div>"
      ],
      "text/plain": [
       "      Age  Hours per day    BPM  Primary streaming service  Fav genre  \\\n",
       "0    18.0            4.0  132.0                          4         15   \n",
       "1    61.0            2.5   84.0                          5          6   \n",
       "2    18.0            4.0  107.0                          4         12   \n",
       "3    18.0            5.0   86.0                          4          6   \n",
       "4    18.0            3.0   66.0                          5         15   \n",
       "..    ...            ...    ...                        ...        ...   \n",
       "589  17.0            2.0  120.0                          4         14   \n",
       "590  18.0            1.0  160.0                          4         11   \n",
       "591  19.0            6.0  120.0                          2         13   \n",
       "592  19.0            5.0  170.0                          4          0   \n",
       "593  29.0            2.0   98.0                          5          5   \n",
       "\n",
       "     Foreign languages  Frequency [Classical]  Frequency [Country]  \\\n",
       "0                    1                      0                    0   \n",
       "1                    1                      2                    0   \n",
       "2                    0                      0                    0   \n",
       "3                    1                      1                    2   \n",
       "4                    1                      2                    0   \n",
       "..                 ...                    ...                  ...   \n",
       "589                  1                      3                    1   \n",
       "590                  1                      1                    1   \n",
       "591                  0                      1                    2   \n",
       "592                  0                      3                    0   \n",
       "593                  1                      2                    1   \n",
       "\n",
       "     Frequency [EDM]  Frequency [Folk]  ...  Frequency [K pop]  \\\n",
       "0                  3                 0  ...                  3   \n",
       "1                  0                 1  ...                  2   \n",
       "2                  1                 0  ...                  3   \n",
       "3                  0                 0  ...                  3   \n",
       "4                  1                 2  ...                  0   \n",
       "..               ...               ...  ...                ...   \n",
       "589                0                 2  ...                  0   \n",
       "590                0                 0  ...                  0   \n",
       "591                2                 1  ...                  1   \n",
       "592                0                 0  ...                  0   \n",
       "593                3                 2  ...                  2   \n",
       "\n",
       "     Frequency [Latin]  Frequency [Lofi]  Frequency [Metal]  Frequency [Pop]  \\\n",
       "0                    0                 2                  2                1   \n",
       "1                    3                 2                  0                2   \n",
       "2                    2                 2                  0                2   \n",
       "3                    1                 3                  1                3   \n",
       "4                    1                 1                  1                1   \n",
       "..                 ...               ...                ...              ...   \n",
       "589                  2                 1                  1                3   \n",
       "590                  0                 1                  0                3   \n",
       "591                  1                 2                  1                2   \n",
       "592                  0                 0                  0                0   \n",
       "593                  0                 1                  0                2   \n",
       "\n",
       "     Frequency [R&B]  Frequency [Rap]  Frequency [Rock]  \\\n",
       "0                  0                1                 1   \n",
       "1                  2                0                 0   \n",
       "2                  3                3                 0   \n",
       "3                  3                3                 3   \n",
       "4                  1                0                 0   \n",
       "..               ...              ...               ...   \n",
       "589                0                1                 3   \n",
       "590                0                0                 2   \n",
       "591                2                2                 1   \n",
       "592                0                0                 0   \n",
       "593                3                3                 3   \n",
       "\n",
       "     Frequency [Video game music]  Music effects  \n",
       "0                               3              1  \n",
       "1                               0              0  \n",
       "2                               1              0  \n",
       "3                               0              0  \n",
       "4                               2              0  \n",
       "..                            ...            ...  \n",
       "589                             0              0  \n",
       "590                             2              0  \n",
       "591                             1              0  \n",
       "592                             2              0  \n",
       "593                             1              0  \n",
       "\n",
       "[594 rows x 23 columns]"
      ]
     },
     "execution_count": 2,
     "metadata": {},
     "output_type": "execute_result"
    }
   ],
   "source": [
    "# Preparing input sample for all columns\n",
    "inp = dataset_enc\n",
    "inp = inp.drop('Insomnia', axis=1)\n",
    "inp = inp.drop('OCD', axis=1)\n",
    "inp = inp.drop('Depression', axis=1)\n",
    "inp = inp.drop('Mental health score', axis=1)\n",
    "inp = inp.drop('Anxiety', axis=1)\n",
    "\n",
    "# Preparing input sample for genre columns\n",
    "# inp = inp.drop('Age', axis=1)\n",
    "# inp = inp.drop('Hours per day', axis=1)\n",
    "# inp = inp.drop('BPM', axis=1)\n",
    "# inp = inp.drop('Primary streaming service', axis=1)\n",
    "# inp = inp.drop('Music effects', axis=1)\n",
    "\n",
    "inp"
   ]
  },
  {
   "cell_type": "markdown",
   "id": "63bb26a5",
   "metadata": {},
   "source": [
    "## Train model and test"
   ]
  },
  {
   "cell_type": "code",

   "execution_count": 21,
   "id": "7e693d02",
   "metadata": {},
   "outputs": [],
   "source": [
    "import pandas as pd\n",
    "from sklearn.ensemble import RandomForestRegressor\n",
    "from sklearn.model_selection import train_test_split\n",
    "\n",
    "# Define x\n",
    "X = inp\n",
    "\n",
    "#'y' is target variable\n",
    "y = dataset_enc['Mental health score']\n",
    "\n",

    "pre_opt_regressor = RandomForestRegressor(random_state=37)\n",
    "\n",
    "\n",
    "# Fitting Random Forest Regression to the dataset\n",
    "X_train, X_test, y_train, y_test = train_test_split(X, y, test_size=0.4, random_state=42)\n",
    "X_val, X_test, y_val, y_test = train_test_split(X_test, y_test, test_size=0.5, random_state=42)\n",
    "\n",
    "\n",
    "pre_opt_regressor.fit(X_train, y_train)\n",
    "\n",
    "# # Make predictions\n",
    "y_pred = pre_opt_regressor.predict(X_test)"
   ]
  },
  {
   "cell_type": "markdown",
   "id": "16623572",
   "metadata": {},
   "source": [
    "## Visualise the outcome accuracy (Pre Opt)"
   ]
  },
  {
   "cell_type": "code",
   "execution_count": 4,
   "id": "2bdd8c93",
   "metadata": {},
   "outputs": [
    {
     "data": {
      "image/png": "[encoded data removed]",
      "text/plain": [
       "<Figure size 800x600 with 1 Axes>"
      ]
     },
     "metadata": {},
     "output_type": "display_data"
    }
   ],
   "source": [
    "plt.figure(figsize=(8, 6))\n",
    "plt.scatter(y_test, y_pred, alpha=0.5)\n",
    "plt.xlabel('Actual Mental health score')\n",
    "plt.ylabel('Expected Mental health score')\n",
    "plt.title('Scatter Plot with Predicted Values')\n",
    "plt.show()"
   ]
  },
  {
   "cell_type": "markdown",
   "id": "3914e139",
   "metadata": {},
   "source": [
    "## Evaluate different accuracy measurements (Pre Opt)"
   ]
  },
  {
   "cell_type": "code",
   "execution_count": 5,
   "id": "4c6407c0",
   "metadata": {},
   "outputs": [
    {
     "name": "stdout",
     "output_type": "stream",
     "text": [
      "Mean Absolute Error (MAE): 6.518067226890757\n",
      "Mean Squared Error (MSE): 63.01672773109243\n",
      "Root Mean Squared Error (RMSE): 7.938307611266549\n",
      "R-squared (R2): 0.03186080634881039\n"
     ]
    }
   ],
   "source": [
    "from sklearn.metrics import mean_absolute_error, mean_squared_error, r2_score\n",
    "\n",
    "mae = mean_absolute_error(y_test, y_pred)\n",
    "mse = mean_squared_error(y_test, y_pred)\n",
    "rmse = mean_squared_error(y_test, y_pred, squared=False)  \n",
    "r2 = r2_score(y_test, y_pred)\n",
    "\n",
    "print(\"Mean Absolute Error (MAE):\", mae)\n",
    "print(\"Mean Squared Error (MSE):\", mse)\n",
    "print(\"Root Mean Squared Error (RMSE):\", rmse)\n",
    "print(\"R-squared (R2):\", r2)"
   ]
  },
  {
   "cell_type": "markdown",
   "id": "f77beadd",
   "metadata": {},
   "source": [
    "## Show model"
   ]
  },
  {
   "cell_type": "code",
   "execution_count": 6,
   "id": "687be774",
   "metadata": {},
   "outputs": [],
   "source": [
    "from sklearn.tree import plot_tree\n",
    "import matplotlib.pyplot as plt\n",
    " \n",
    "# Assuming regressor is your trained Random Forest model\n",
    "# Pick one tree from the forest, e.g., the first tree (index 0)\n",
    "# tree_to_plot = regressor.estimators_[0]\n",
    " \n",
    "# Plot the decision tree\n",
    "# plt.figure(figsize=(50, 30))\n",
    "# plot_tree(tree_to_plot, feature_names=dataset_enc.columns.tolist(), filled=True, rounded=True, fontsize=10)\n",
    "# plt.title(\"Decision Tree from Random Forest\")\n",
    "# plt.show()"
   ]
  },
  {
   "cell_type": "markdown",
   "id": "42400a41",
   "metadata": {},
   "source": [
    "## Hyperparameters imports"
   ]
  },
  {
   "cell_type": "code",
   "execution_count": 7,
   "id": "94cec2bd",
   "metadata": {},
   "outputs": [],
   "source": [
    "from sklearn.model_selection import GridSearchCV\n",
    "import warnings\n",
    "\n",
    "warnings.filterwarnings('ignore', category=FutureWarning)\n",
    "warnings.filterwarnings('ignore', category=DeprecationWarning)\n"
   ]
  },
  {
   "cell_type": "markdown",
   "id": "b828e236",
   "metadata": {},
   "source": [
    "## Format the best hyperparameters print"
   ]
  },
  {
   "cell_type": "code",
   "execution_count": 8,
   "id": "281d3e07",
   "metadata": {},
   "outputs": [],
   "source": [
    "def print_results(results):\n",
    "    print('BEST PARAMS: {}\\n'.format(results.best_params_))\n",
    "    best_params = results.best_params_\n",
    "    \n",
    "    means = results.cv_results_['mean_test_score']\n",
    "    stds = results.cv_results_['std_test_score']\n",
    "    for mean, std, params in  zip(means, stds, results.cv_results_['params']):\n",
    "        print('{} (+/-{}) for {}'.format(round(mean, 3), round(std * 2, 3), params))\n",
    "    return best_params"
   ]
  },
  {
   "cell_type": "markdown",
   "id": "af589a4a",
   "metadata": {},
   "source": [
    "## Define parameters to try and fit"
   ]
  },
  {
   "cell_type": "code",
   "execution_count": null,
   "id": "c9877900",
   "metadata": {},
   "outputs": [],
   "source": [
    "param_grid = {\n",
    "    'n_estimators': [50, 100, 200, 500],  # Number of trees in the forest\n",
    "    'max_depth': [None, 10, 20, 30],  # Maximum depth of the trees\n",
    "    'min_samples_split': [2, 5, 10],  # Minimum number of samples required to split an internal node\n",
    "    'min_samples_leaf': [1, 2, 4],  # Minimum number of samples required to be at a leaf node\n",
    "    'max_features': ['sqrt', 'log2'],  # Number of features to consider when looking for the best split\n",
    "    'bootstrap': [True, False]  # Whether bootstrap samples are used when building trees\n",
    "}\n",
    "\n",
    "regressor = RandomForestRegressor(random_state=42)\n",
    "\n",
    "grid_search = GridSearchCV(regressor, param_grid, cv=5, scoring='neg_mean_squared_error')\n",
    "grid_search.fit(X_train, y_train.values.ravel())\n",
    "\n",
    "best_parameters = print_results(grid_search)"
   ]
  },
  {
   "cell_type": "code",
   "execution_count": null,
   "id": "64c5a545",
   "metadata": {},
   "outputs": [],
   "source": [
    "hp_regressor = RandomForestRegressor(**best_parameters, random_state=42)\n",
    "\n",
    "X_train_val = pd.concat([X_train, X_val])\n",
    "y_train_val = pd.concat([y_train, y_val])\n",
    "\n",
    "hp_regressor.fit(X_train_val, y_train_val)\n",
    "val_score = hp_regressor.score(X_val, y_val)\n",
    "test_score = hp_regressor.score(X_test, y_test)\n",
    "\n",
    "print(\"Validation Score:\", val_score)\n",
    "print(\"Test Score:\", test_score)\n",
    "\n",
    "# # Make predictions\n",
    "y_pred = hp_regressor.predict(X_test)"
   ]
  },
  {
   "cell_type": "markdown",
   "id": "accd7811",
   "metadata": {},
   "source": [
    "## Visualise the outcome accuracy (Post Hyp-Opt)"
   ]
  },
  {
   "cell_type": "code",
   "execution_count": null,
   "id": "680e6793",
   "metadata": {},
   "outputs": [],
   "source": [
    "plt.figure(figsize=(8, 6))\n",
    "plt.scatter(y_test, y_pred, alpha=0.5)\n",
    "plt.xlabel('Actual Mental health score')\n",
    "plt.ylabel('Expected Mental health score')\n",
    "plt.title('Scatter Plot with Predicted Values')\n",
    "plt.show()"
   ]
  },
  {
   "cell_type": "markdown",
   "id": "6984eac0",
   "metadata": {},
   "source": [
    "## Evaluate different accuracy measurements (Post Hyp-Opt)"
   ]
  },
  {
   "cell_type": "code",
   "execution_count": null,
   "id": "8fbdffb8",
   "metadata": {},
   "outputs": [],
   "source": [
    "from sklearn.metrics import mean_absolute_error, mean_squared_error, r2_score\n",
    "\n",
    "mae = mean_absolute_error(y_test, y_pred)\n",
    "mse = mean_squared_error(y_test, y_pred)\n",
    "rmse = mean_squared_error(y_test, y_pred, squared=False)  \n",
    "r2 = r2_score(y_test, y_pred)\n",
    "\n",
    "print(\"Mean Absolute Error (MAE):\", mae)\n",
    "print(\"Mean Squared Error (MSE):\", mse)\n",
    "print(\"Root Mean Squared Error (RMSE):\", rmse)\n",
    "print(\"R-squared (R2):\", r2)"
   ]
  },
  {
   "cell_type": "markdown",
   "id": "15a5cb09",
   "metadata": {},
   "source": [
    "## Find the importance of each feature"
   ]
  },
  {
   "cell_type": "code",
   "execution_count": null,
   "id": "e0406d3a",
   "metadata": {},
   "outputs": [],
   "source": [
    "importance = hp_regressor.feature_importances_\n",
    "\n",
    "for i,v in enumerate(importance):\n",
    "    print('Feature: %0d, Score: %.5f' % (i,v))"
   ]
  },
  {
   "cell_type": "markdown",
   "id": "834944f6",
   "metadata": {},
   "source": [
    "## View all X features"
   ]
  },
  {
   "cell_type": "code",
   "execution_count": null,
   "id": "d45b41ea",
   "metadata": {},
   "outputs": [],
   "source": [
    "X"
   ]
  },
  {
   "cell_type": "markdown",
   "id": "0efdd955",
   "metadata": {},
   "source": [
    "## Visualise feature importance"
   ]
  },
  {
   "cell_type": "code",
   "execution_count": null,
   "id": "352ce03d",
   "metadata": {},
   "outputs": [],
   "source": [
    "from matplotlib import pyplot\n",
    "\n",
    "pyplot.bar([x for x in range(len(importance))], importance)\n",
    "pyplot.show()"
   ]
  },
  {
   "cell_type": "markdown",
   "id": "2b34689d",
   "metadata": {},
   "source": [
    "## Remove unimportant features"
   ]
  },
  {
   "cell_type": "code",
   "execution_count": null,
   "id": "7349bd15",
   "metadata": {},
   "outputs": [],
   "source": [
    "X = X.drop('Foreign languages', axis=1) #6\n",
    "X = X.drop('Frequency [Gospel]', axis=1) #11\n",
    "X = X.drop('Frequency [Classical]', axis=1) #7\n",
    "X = X.drop('Frequency [Country]', axis=1) #8\n",
    "X = X.drop('Frequency [Hip hop]', axis=1) #12\n",
    "X = X.drop('Frequency [K pop]', axis=1) #14\n",
    "X = X.drop('Music effects', axis=1) #23\n",
    "X = X.drop('Frequency [R&B]', axis=1) #19\n",
    "X"
   ]
  },
  {
   "cell_type": "markdown",
   "id": "09761fd6",
   "metadata": {},
   "source": [
    "## Create a new model"
   ]
  },
  {
   "cell_type": "code",
   "execution_count": null,
   "id": "acc8b501",
   "metadata": {},
   "outputs": [],
   "source": [
    "\n",
    "\n",
    "#'y' is target variable\n",
    "y = dataset_enc['Mental health score']\n",
    "\n",
    "feature_imp_regressor = RandomForestRegressor()\n",
    "\n",
    "\n",
    "# Fitting Random Forest Regression to the dataset\n",
    "X_train, X_test, y_train, y_test = train_test_split(X, y, test_size=0.4, random_state=42)\n",
    "X_val, X_test, y_val, y_test = train_test_split(X_test, y_test, test_size=0.5, random_state=42)\n",
    "\n",
    "\n",
    "feature_imp_regressor.fit(X_train, y_train)\n",
    "\n",
    "# # Make predictions\n",
    "y_pred = feature_imp_regressor.predict(X_test)"
   ]
  },
  {
   "cell_type": "markdown",
   "id": "346538cd",
   "metadata": {},
   "source": [
    "## View accuracy (Post feature removals, Pre Hyp-Opt)"
   ]
  },
  {
   "cell_type": "code",
   "execution_count": null,
   "id": "3da81419",
   "metadata": {},
   "outputs": [],
   "source": [
    "plt.figure(figsize=(8, 6))\n",
    "plt.scatter(y_test, y_pred, alpha=0.5)\n",
    "plt.xlabel('Actual Mental health score')\n",
    "plt.ylabel('Expected Mental health score')\n",
    "plt.title('Scatter Plot with Predicted Values')\n",
    "plt.show()"
   ]
  },
  {
   "cell_type": "code",
   "execution_count": null,
   "id": "e1b543da",
   "metadata": {},
   "outputs": [],
   "source": [
    "mae = mean_absolute_error(y_test, y_pred)\n",
    "mse = mean_squared_error(y_test, y_pred)\n",
    "rmse = mean_squared_error(y_test, y_pred, squared=False)  \n",
    "r2 = r2_score(y_test, y_pred)\n",
    "\n",
    "print(\"Mean Absolute Error (MAE):\", mae)\n",
    "print(\"Mean Squared Error (MSE):\", mse)\n",
    "print(\"Root Mean Squared Error (RMSE):\", rmse)\n",
    "print(\"R-squared (R2):\", r2)"
   ]
  },
  {
   "cell_type": "markdown",
   "id": "234f74c3",
   "metadata": {},
   "source": [
    "## Find optimal hyperparameters for feature removed model"
   ]
  },
  {
   "cell_type": "code",
   "execution_count": null,
   "id": "7cbab240",
   "metadata": {},
   "outputs": [],
   "source": [
    "param_grid = {\n",
    "    'n_estimators': [50, 100, 200, 500],  # Number of trees in the forest\n",
    "    'max_depth': [None, 10, 20, 30],  # Maximum depth of the trees\n",
    "    'min_samples_split': [2, 5, 10],  # Minimum number of samples required to split an internal node\n",
    "    'min_samples_leaf': [1, 2, 4],  # Minimum number of samples required to be at a leaf node\n",
    "    'max_features': ['sqrt', 'log2'],  # Number of features to consider when looking for the best split\n",
    "    'bootstrap': [True, False]  # Whether bootstrap samples are used when building trees\n",
    "}\n",
    "\n",
    "f_regressor = RandomForestRegressor()\n",
    "\n",
    "grid_search = GridSearchCV(f_regressor, param_grid, cv=5, scoring='neg_mean_squared_error')\n",
    "grid_search.fit(X_train, y_train.values.ravel())\n",
    "\n",
    "best_parameters = print_results(grid_search)"
   ]
  },
  {
   "cell_type": "markdown",
   "id": "fc8302f5",
   "metadata": {},
   "source": [
    "## Train a model with best parameters and evaluate validation score"
   ]
  },
  {
   "cell_type": "code",
   "execution_count": null,
   "id": "7de72597",
   "metadata": {},
   "outputs": [],
   "source": [
    "hp_feature_regressor = RandomForestRegressor(**best_parameters)\n",
    "y_train = pd.DataFrame(y_train) \n",
    "y_val = pd.DataFrame(y_val)\n",
    "\n",
    "X_train_val = pd.concat([X_train, X_val])\n",
    "y_train_val = pd.concat([y_train, y_val])\n",
    "\n",
    "hp_feature_regressor.fit(X_train_val, y_train_val)\n",
    "val_score = hp_feature_regressor.score(X_val, y_val)\n",
    "test_score = hp_feature_regressor.score(X_test, y_test)\n",
    "\n",
    "print(\"Validation Score:\", val_score)\n",
    "print(\"Test Score:\", test_score)\n",
    "\n",
    "# # Make predictions\n",
    "y_pred = hp_feature_regressor.predict(X_test)"
   ]
  },
  {
   "cell_type": "markdown",
   "id": "45218c76",
   "metadata": {},
   "source": [
    "## View accuracy (Post feature removals, Pre Hyp-Opt)"
   ]
  },
  {
   "cell_type": "code",
   "execution_count": null,
   "id": "b149c863",
   "metadata": {},
   "outputs": [],
   "source": [
    "plt.figure(figsize=(8, 6))\n",
    "plt.scatter(y_test, y_pred, alpha=0.5)\n",
    "plt.xlabel('Actual Mental health score')\n",
    "plt.ylabel('Expected Mental health score')\n",
    "plt.title('Scatter Plot with Predicted Values')\n",
    "plt.show()"
   ]
  },
  {
   "cell_type": "code",
   "execution_count": null,
   "id": "87056d84",
   "metadata": {},
   "outputs": [],
   "source": [
    "mae = mean_absolute_error(y_test, y_pred)\n",
    "mse = mean_squared_error(y_test, y_pred)\n",
    "rmse = mean_squared_error(y_test, y_pred, squared=False)  \n",
    "r2 = r2_score(y_test, y_pred)\n",
    "\n",
    "print(\"Mean Absolute Error (MAE):\", mae)\n",
    "print(\"Mean Squared Error (MSE):\", mse)\n",
    "print(\"Root Mean Squared Error (RMSE):\", rmse)\n",
    "print(\"R-squared (R2):\", r2)"
   ]
  },
  {
   "cell_type": "code",
   "execution_count": null,
   "id": "8b658586",
   "metadata": {},
   "outputs": [],
   "source": []
  }
 ],
 "metadata": {
  "kernelspec": {
   "display_name": "Python 3 (ipykernel)",
   "language": "python",
   "name": "python3"
  },
  "language_info": {
   "codemirror_mode": {
    "name": "ipython",
    "version": 3
   },
   "file_extension": ".py",
   "mimetype": "text/x-python",
   "name": "python",
   "nbconvert_exporter": "python",
   "pygments_lexer": "ipython3",
   "version": "3.11.4"
  }
 },
 "nbformat": 4,
 "nbformat_minor": 5
}
