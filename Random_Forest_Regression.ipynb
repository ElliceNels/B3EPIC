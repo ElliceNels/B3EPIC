{
 "cells": [
  {
   "cell_type": "markdown",
   "id": "edce13c1",
   "metadata": {},
   "source": [
    "## Preparing input sample for all columns"
   ]
  },
  {
   "cell_type": "code",
   "execution_count": null,
   "id": "81ec645d",
   "metadata": {},
   "outputs": [],
   "source": [
    "# Preparing input sample for all columns\n",
    "inp = dataset_enc\n",
    "inp = inp.drop('Insomnia', axis=1)\n",
    "inp = inp.drop('OCD', axis=1)\n",
    "inp = inp.drop('Depression', axis=1)\n",
    "inp = inp.drop('Mental health score', axis=1)\n",
    "inp = inp.drop('Anxiety', axis=1)\n",
    "\n",
    "# Preparing input sample for genre columns\n",
    "# inp = inp.drop('Age', axis=1)\n",
    "# inp = inp.drop('Hours per day', axis=1)\n",
    "# inp = inp.drop('BPM', axis=1)\n",
    "# inp = inp.drop('Primary streaming service', axis=1)\n",
    "# inp = inp.drop('Music effects', axis=1)\n",
    "\n",
    "inp"
   ]
  },
  {
   "cell_type": "markdown",
   "id": "63bb26a5",
   "metadata": {},
   "source": [
    "## Train model and test"
   ]
  },
  {
   "cell_type": "code",
   "execution_count": null,
   "id": "7e693d02",
   "metadata": {},
   "outputs": [],
   "source": [
    "import pandas as pd\n",
    "from sklearn.ensemble import RandomForestRegressor\n",
    "from sklearn.model_selection import train_test_split\n",
    "\n",
    "# Define x\n",
    "x = inp\n",
    "\n",
    "#'y' is target variable\n",
    "y = dataset_enc['Mental health score']\n",
    "\n",
    "train_set, validate_set = train_test_split(dataset_enc)\n",
    "\n",
    "\n",
    "# Fitting Random Forest Regression to the dataset\n",
    "regressor = RandomForestRegressor(n_estimators=400, random_state=42, oob_score=True)\n",
    "X_train, X_test, y_train, y_test = train_test_split(x, y, test_size=0.2, random_state=42)\n",
    "X_test, X_val, y_test, y_val = train_test_split(x, y, test_size=0.5, random_state=42)\n",
    "\n",
    "\n",
    "regressor.fit(X_train, y_train)\n",
    "\n",
    "# # Make predictions\n",
    "y_pred = regressor.predict(X_test)"
   ]
  },
  {
   "cell_type": "markdown",
   "id": "16623572",
   "metadata": {},
   "source": [
    "## Visualise the outcome accuracy"
   ]
  },
  {
   "cell_type": "code",
   "execution_count": null,
   "id": "e0406d3a",
   "metadata": {},
   "outputs": [],
   "source": [
    "\n",
    "import numpy as np\n",
    "plt.figure(figsize=(8, 6))\n",
    "plt.scatter(y_test, y_pred, alpha=0.5)\n",
    "plt.xlabel('Actual Mental health score')\n",
    "plt.ylabel('Expected Mental health score')\n",
    "plt.title('Scatter Plot with Predicted Values')\n",
    "plt.show()"
   ]
  },
  {
   "cell_type": "markdown",
   "id": "3914e139",
   "metadata": {},
   "source": [
    "## Evaluate different accuracy measurements"
   ]
  },
  {
   "cell_type": "code",
   "execution_count": null,
   "id": "8fbdffb8",
   "metadata": {},
   "outputs": [],
   "source": [
    "from sklearn.metrics import mean_absolute_error, mean_squared_error, r2_score\n",
    "\n",
    "mae = mean_absolute_error(y_test, y_pred)\n",
    "mse = mean_squared_error(y_test, y_pred)\n",
    "rmse = mean_squared_error(y_test, y_pred, squared=False)  \n",
    "r2 = r2_score(y_test, y_pred)\n",
    "\n",
    "print(\"Mean Absolute Error (MAE):\", mae)\n",
    "print(\"Mean Squared Error (MSE):\", mse)\n",
    "print(\"Root Mean Squared Error (RMSE):\", rmse)\n",
    "print(\"R-squared (R2):\", r2)\n",
    "# print(\"oob score: \", regressor.oob_score_)"
   ]
  },
  {
   "cell_type": "markdown",
   "id": "f77beadd",
   "metadata": {},
   "source": [
    "## Show model"
   ]
  },
  {
   "cell_type": "code",
   "execution_count": null,
   "id": "687be774",
   "metadata": {},
   "outputs": [],
   "source": [
    "from sklearn.tree import plot_tree\n",
    "import matplotlib.pyplot as plt\n",
    " \n",
    "# Assuming regressor is your trained Random Forest model\n",
    "# Pick one tree from the forest, e.g., the first tree (index 0)\n",
    "tree_to_plot = regressor.estimators_[0]\n",
    " \n",
    "# Plot the decision tree\n",
    "# plt.figure(figsize=(50, 30))\n",
    "# plot_tree(tree_to_plot, feature_names=dataset_enc.columns.tolist(), filled=True, rounded=True, fontsize=10)\n",
    "# plt.title(\"Decision Tree from Random Forest\")\n",
    "# plt.show()"
   ]
  },
  {
   "cell_type": "markdown",
   "id": "42400a41",
   "metadata": {},
   "source": [
    "## Hyperparameters test"
   ]
  },
  {
   "cell_type": "code",
   "execution_count": null,
   "id": "94cec2bd",
   "metadata": {},
   "outputs": [],
   "source": [
    "from sklearn.model_selection import GridSearchCV\n",
    "from sklearn.neural_network import MLPClassifier\n",
    "import warnings\n",
    "\n",
    "warnings.filterwarnings('ignore', category=FutureWarning)\n",
    "warnings.filterwarnings('ignore', category=DeprecationWarning)\n",
    "\n",
    "y_val = pd.DataFrame(y_val) \n",
    "\n",
    "tr_features = X_val\n",
    "tr_labels = y_val"
   ]
  },
  {
   "cell_type": "code",
   "execution_count": null,
   "id": "281d3e07",
   "metadata": {},
   "outputs": [],
   "source": [
    "def print_results(results):\n",
    "    print('BEST PARAMS: {}\\n'.format(results.best_params_))\n",
    "    \n",
    "    means = results.cv_results_['mean_test_score']\n",
    "    stds = results.cv_results_['std_test_score']\n",
    "    for mean, std, params in  zip(means, stds, results.cv_results_['params']):\n",
    "        print('{} (+/-{}) for {}'.format(round(mean, 3), round(std * 2, 3), params))"
   ]
  },
  {
   "cell_type": "code",
   "execution_count": null,
   "id": "c9877900",
   "metadata": {},
   "outputs": [],
   "source": [
    "param_grid = {\n",
    "    'n_estimators': [50, 100, 200, 500],  # Number of trees in the forest\n",
    "    'max_depth': [None, 10, 20, 30],  # Maximum depth of the trees\n",
    "    'min_samples_split': [2, 5, 10],  # Minimum number of samples required to split an internal node\n",
    "    'min_samples_leaf': [1, 2, 4],  # Minimum number of samples required to be at a leaf node\n",
    "    'max_features': ['sqrt', 'log2'],  # Number of features to consider when looking for the best split\n",
    "    'bootstrap': [True, False]  # Whether bootstrap samples are used when building trees\n",
    "}\n",
    "\n",
    "\n",
    "grid_search = GridSearchCV(regressor, param_grid, cv=5)\n",
    "grid_search.fit(tr_features, tr_labels.values.ravel())\n",
    "\n",
    "print_results(grid_search)"
   ]
  }
 ],
 "metadata": {
  "kernelspec": {
   "display_name": "Python 3 (ipykernel)",
   "language": "python",
   "name": "python3"
  },
  "language_info": {
   "codemirror_mode": {
    "name": "ipython",
    "version": 3
   },
   "file_extension": ".py",
   "mimetype": "text/x-python",
   "name": "python",
   "nbconvert_exporter": "python",
   "pygments_lexer": "ipython3",
   "version": "3.11.4"
  }
 },
 "nbformat": 4,
 "nbformat_minor": 5
}
